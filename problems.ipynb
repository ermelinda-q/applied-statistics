{
 "cells": [
  {
   "cell_type": "markdown",
   "id": "349bb989",
   "metadata": {},
   "source": [
    "# Applied Statistics - Assessment Problems\n",
    "\n",
    "## Problem 1: Extending the Lady Tasting Tea\n",
    "\n",
    "Let's extend the Lady Tasting Tea experiment as follows. The original experiment has 8 cups: 4 tea-first and 4 milk-first. Suppose we prepare 12 cups: 8 tea-first and 4 milk-first. A participant claims they can tell which was poured first.\n",
    "\n",
    "Simulate this experiment using ```numpy``` by randomly shuffling the cups many times and calculating the probability of the participant correctly identifying all cups by chance. Compare your result with the original 8-cup experiment.\n",
    "\n",
    "In your notebook, explain your simulation process clearly, report and interpret the estimated probability, and discuss whether, based on this probability, you would consider extending or relaxing the p-value threshold compared to the original design"
   ]
  },
  {
   "cell_type": "code",
   "execution_count": null,
   "id": "ec3cc3ba",
   "metadata": {},
   "outputs": [],
   "source": [
    "# Importing the required libraries.\n",
    "# Mathematical functions from the standard library\n",
    "import math \n",
    "# Permutations and combinations.\n",
    "import itertools\n",
    "# Random selection.\n",
    "import random\n",
    "# Numerical structures and operations.\n",
    "import numpy as np \n",
    "# Plotting.\n",
    "import matplotlib as plt "
   ]
  },
  {
   "cell_type": "markdown",
   "id": "60a75ef1",
   "metadata": {},
   "source": [
    "## Cups of Tea"
   ]
  },
  {
   "cell_type": "code",
   "execution_count": null,
   "id": "14d02a7f",
   "metadata": {},
   "outputs": [],
   "source": [
    "# Number of cups of tea in total.\n",
    "no_cups = 12\n",
    "\n",
    "# Number of cups of tea with milk in first.\n",
    "no_cups_milk_first = 4\n",
    "\n",
    "# Number of cups of tea with tea in first.\n",
    "no_cups_tea_first = 8"
   ]
  }
 ],
 "metadata": {
  "language_info": {
   "name": "python"
  }
 },
 "nbformat": 4,
 "nbformat_minor": 5
}
