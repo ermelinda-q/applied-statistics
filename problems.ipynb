{
 "cells": [
  {
   "cell_type": "markdown",
   "id": "349bb989",
   "metadata": {},
   "source": [
    "# Applied Statistics Assessment"
   ]
  }
 ],
 "metadata": {
  "language_info": {
   "name": "python"
  }
 },
 "nbformat": 4,
 "nbformat_minor": 5
}
